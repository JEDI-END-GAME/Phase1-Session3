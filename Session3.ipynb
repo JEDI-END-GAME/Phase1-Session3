{
  "nbformat": 4,
  "nbformat_minor": 0,
  "metadata": {
    "colab": {
      "name": "Session3.ipynb",
      "provenance": []
    },
    "kernelspec": {
      "name": "python3",
      "display_name": "Python 3"
    }
  },
  "cells": [
    {
      "cell_type": "code",
      "metadata": {
        "id": "6wq6JoeCujuA"
      },
      "source": [
        "import math\n",
        "from functools import reduce\n",
        "import random\n",
        "from functools import partial\n",
        "import string\n",
        "import re\n",
        "import operator\n",
        "import requests"
      ],
      "execution_count": 50,
      "outputs": []
    },
    {
      "cell_type": "code",
      "metadata": {
        "id": "8hRKsnsru8zO"
      },
      "source": [
        "fib_list = [0, 1, 1, 2, 3, 5, 8, 13, 21, 34, 55, 89, 144, 233, 377, 610, 987, 1597, 2584, 4181, 6765, 10946]\n",
        "fib_check = lambda x : True if x in fib_list else False"
      ],
      "execution_count": 2,
      "outputs": []
    },
    {
      "cell_type": "code",
      "metadata": {
        "colab": {
          "base_uri": "https://localhost:8080/"
        },
        "id": "Xviv7n0gvAje",
        "outputId": "0404bec3-3f7a-4a93-964c-1ccfe593cf2d"
      },
      "source": [
        "fib_check(8)"
      ],
      "execution_count": 3,
      "outputs": [
        {
          "output_type": "execute_result",
          "data": {
            "text/plain": [
              "True"
            ]
          },
          "metadata": {
            "tags": []
          },
          "execution_count": 3
        }
      ]
    },
    {
      "cell_type": "code",
      "metadata": {
        "colab": {
          "base_uri": "https://localhost:8080/"
        },
        "id": "zmVG_GukvNjF",
        "outputId": "059e53f3-7bd1-4a19-c151-881fdad59ea6"
      },
      "source": [
        "fib_check(10)"
      ],
      "execution_count": 4,
      "outputs": [
        {
          "output_type": "execute_result",
          "data": {
            "text/plain": [
              "False"
            ]
          },
          "metadata": {
            "tags": []
          },
          "execution_count": 4
        }
      ]
    },
    {
      "cell_type": "code",
      "metadata": {
        "id": "w7HbJiGZvQyd"
      },
      "source": [
        "def even_odd(l1, l2):\n",
        "    return[x + y for x, y in zip(l1, l2) if x % 2 ==0 and y % 2 != 0]"
      ],
      "execution_count": 6,
      "outputs": []
    },
    {
      "cell_type": "code",
      "metadata": {
        "colab": {
          "base_uri": "https://localhost:8080/"
        },
        "id": "tjRQZkt3vV5M",
        "outputId": "cdcb45aa-e9bc-40ab-bb72-4f87d2845424"
      },
      "source": [
        "even_odd([1, 2, 3, 4, 5], [6, 7, 8, 9, 10])"
      ],
      "execution_count": 7,
      "outputs": [
        {
          "output_type": "execute_result",
          "data": {
            "text/plain": [
              "[9, 13]"
            ]
          },
          "metadata": {
            "tags": []
          },
          "execution_count": 7
        }
      ]
    },
    {
      "cell_type": "code",
      "metadata": {
        "id": "ONg3trtKvoto"
      },
      "source": [
        "def strip_vowel_str(str):\n",
        "    vowels = ['a', 'e', 'i', 'o', 'u']\n",
        "    return \"\".join([x for x in str if x not in vowels])"
      ],
      "execution_count": 8,
      "outputs": []
    },
    {
      "cell_type": "code",
      "metadata": {
        "colab": {
          "base_uri": "https://localhost:8080/",
          "height": 35
        },
        "id": "WCxRkXYpvuv0",
        "outputId": "84f72112-bd19-4112-ce8e-972fae48fba1"
      },
      "source": [
        "strip_vowel_str('python')"
      ],
      "execution_count": 10,
      "outputs": [
        {
          "output_type": "execute_result",
          "data": {
            "application/vnd.google.colaboratory.intrinsic+json": {
              "type": "string"
            },
            "text/plain": [
              "'pythn'"
            ]
          },
          "metadata": {
            "tags": []
          },
          "execution_count": 10
        }
      ]
    },
    {
      "cell_type": "code",
      "metadata": {
        "id": "Ht5Kcnazv2Q8"
      },
      "source": [
        "def relu_like_activation(l):\n",
        "    return[0 if x < 0 else x for x in l]"
      ],
      "execution_count": 11,
      "outputs": []
    },
    {
      "cell_type": "code",
      "metadata": {
        "colab": {
          "base_uri": "https://localhost:8080/"
        },
        "id": "zthFSmojv6Sv",
        "outputId": "e91fc8af-0c38-4545-eaa9-e62c25dede4a"
      },
      "source": [
        "relu_like_activation([-2, -1, 0, 1, 2])"
      ],
      "execution_count": 12,
      "outputs": [
        {
          "output_type": "execute_result",
          "data": {
            "text/plain": [
              "[0, 0, 0, 1, 2]"
            ]
          },
          "metadata": {
            "tags": []
          },
          "execution_count": 12
        }
      ]
    },
    {
      "cell_type": "code",
      "metadata": {
        "id": "EzjW2IHwwCM4"
      },
      "source": [
        "def sigmoid_activation(l):\n",
        "    return[round(1/(1+math.exp(-x)),2) for x in l]"
      ],
      "execution_count": 13,
      "outputs": []
    },
    {
      "cell_type": "code",
      "metadata": {
        "colab": {
          "base_uri": "https://localhost:8080/"
        },
        "id": "5lGXgEnwwQYd",
        "outputId": "e2155952-6b3e-4bcc-c4f5-98dcf4e04938"
      },
      "source": [
        "sigmoid_activation(([-2, -1, 0, 1, 2]))"
      ],
      "execution_count": 14,
      "outputs": [
        {
          "output_type": "execute_result",
          "data": {
            "text/plain": [
              "[0.12, 0.27, 0.5, 0.73, 0.88]"
            ]
          },
          "metadata": {
            "tags": []
          },
          "execution_count": 14
        }
      ]
    },
    {
      "cell_type": "code",
      "metadata": {
        "id": "b-60IRfAwTz_"
      },
      "source": [
        "def shift_5_char(str):\n",
        "    str = str.lower()\n",
        "    return \"\".join([chr(ord(x)+5) if (ord(x)+5) <=122 else chr(ord(x)+5-122+96) for x in str])"
      ],
      "execution_count": 15,
      "outputs": []
    },
    {
      "cell_type": "code",
      "metadata": {
        "colab": {
          "base_uri": "https://localhost:8080/",
          "height": 35
        },
        "id": "7zlyHVfOwX0y",
        "outputId": "44f38818-e954-403f-ee74-08590b6c12ae"
      },
      "source": [
        "shift_5_char('python')"
      ],
      "execution_count": 16,
      "outputs": [
        {
          "output_type": "execute_result",
          "data": {
            "application/vnd.google.colaboratory.intrinsic+json": {
              "type": "string"
            },
            "text/plain": [
              "'udymts'"
            ]
          },
          "metadata": {
            "tags": []
          },
          "execution_count": 16
        }
      ]
    },
    {
      "cell_type": "code",
      "metadata": {
        "id": "a5K-NUQY1HVF"
      },
      "source": [
        "def profane_filter(str) :\n",
        "    profane_word_url=' https://github.com/RobertJGabriel/Google-profanity-words/blob/master/list.txt'\n",
        "    response = requests.get(profane_word_url)\n",
        "    filter_words = [i for i in str.split() if i not in response.text]\n",
        "    return bool(filter_words)"
      ],
      "execution_count": 53,
      "outputs": []
    },
    {
      "cell_type": "code",
      "metadata": {
        "id": "aEJqly2X16Ka",
        "outputId": "e3263341-4418-40c7-897b-9bdc52e953e7",
        "colab": {
          "base_uri": "https://localhost:8080/"
        }
      },
      "source": [
        "profane_filter('asshole')"
      ],
      "execution_count": 54,
      "outputs": [
        {
          "output_type": "execute_result",
          "data": {
            "text/plain": [
              "False"
            ]
          },
          "metadata": {
            "tags": []
          },
          "execution_count": 54
        }
      ]
    },
    {
      "cell_type": "code",
      "metadata": {
        "id": "JGuObirkwz0S"
      },
      "source": [
        "def add_even_num(l):\n",
        "    sum = reduce(lambda a, b: a + b, filter(lambda a: (a % 2 == 0), l))\n",
        "    return sum"
      ],
      "execution_count": 21,
      "outputs": []
    },
    {
      "cell_type": "code",
      "metadata": {
        "colab": {
          "base_uri": "https://localhost:8080/"
        },
        "id": "MTzS4wP_w4Ct",
        "outputId": "71f8d749-7ca7-4a78-fe62-3728a3657e5e"
      },
      "source": [
        "add_even_num([1, 2, 3, 4, 5, 6, 7, 8])"
      ],
      "execution_count": 22,
      "outputs": [
        {
          "output_type": "execute_result",
          "data": {
            "text/plain": [
              "20"
            ]
          },
          "metadata": {
            "tags": []
          },
          "execution_count": 22
        }
      ]
    },
    {
      "cell_type": "code",
      "metadata": {
        "id": "e-fj67Jvw9gv"
      },
      "source": [
        "def big_char_str(str):\n",
        "    return reduce(lambda a, b: a if ord(a) > ord(b) else b, str)"
      ],
      "execution_count": 27,
      "outputs": []
    },
    {
      "cell_type": "code",
      "metadata": {
        "colab": {
          "base_uri": "https://localhost:8080/",
          "height": 35
        },
        "id": "CRwUN_zPxMhy",
        "outputId": "7a4c6e08-ecf9-4b94-d052-4335195e83d7"
      },
      "source": [
        "big_char_str('python')"
      ],
      "execution_count": 28,
      "outputs": [
        {
          "output_type": "execute_result",
          "data": {
            "application/vnd.google.colaboratory.intrinsic+json": {
              "type": "string"
            },
            "text/plain": [
              "'y'"
            ]
          },
          "metadata": {
            "tags": []
          },
          "execution_count": 28
        }
      ]
    },
    {
      "cell_type": "code",
      "metadata": {
        "id": "-PoULZgrxrdg"
      },
      "source": [
        "def add_third_num(l):\n",
        "    return reduce(operator.add, l[2::3])"
      ],
      "execution_count": 38,
      "outputs": []
    },
    {
      "cell_type": "code",
      "metadata": {
        "colab": {
          "base_uri": "https://localhost:8080/"
        },
        "id": "ws2vLAnVx-T3",
        "outputId": "920303b6-e56f-4b5a-8b64-d34a0caa4ab6"
      },
      "source": [
        "add_third_num([1, 2, 3, 4, 5, 6, 7, 8, 9])"
      ],
      "execution_count": 39,
      "outputs": [
        {
          "output_type": "execute_result",
          "data": {
            "text/plain": [
              "18"
            ]
          },
          "metadata": {
            "tags": []
          },
          "execution_count": 39
        }
      ]
    },
    {
      "cell_type": "code",
      "metadata": {
        "id": "qhy-Xgqn0N4c"
      },
      "source": [
        "Alphabet = ['A', 'B', 'C', 'D', 'E', 'F', 'G', 'H', 'I', 'J', 'K', 'L', 'M', 'N', 'O', 'P', 'Q', 'R', 'S', 'T', 'U', 'V', 'W', 'X', 'Y','Z']\n",
        "def num_plate_KA():\n",
        "    return [('KA' + str(random.randint(10, 99)) + str(random.choice(Alphabet)) + str(random.choice(Alphabet)) + str(random.randint(1000, 9999))) for _ in range(15)]"
      ],
      "execution_count": 87,
      "outputs": []
    },
    {
      "cell_type": "markdown",
      "metadata": {
        "id": "vWfNT2MjDbmS"
      },
      "source": [
        "num_plate generator with \"KA\" fixed"
      ]
    },
    {
      "cell_type": "code",
      "metadata": {
        "colab": {
          "base_uri": "https://localhost:8080/"
        },
        "id": "wBBHA-220U5t",
        "outputId": "46ef597c-3ab6-491b-c2a1-d74a0556f14f"
      },
      "source": [
        "num_plate_KA()"
      ],
      "execution_count": 89,
      "outputs": [
        {
          "output_type": "execute_result",
          "data": {
            "text/plain": [
              "['KA75FH5175',\n",
              " 'KA45OT1934',\n",
              " 'KA40AI8259',\n",
              " 'KA36JG4618',\n",
              " 'KA44LG3848',\n",
              " 'KA71TJ9110',\n",
              " 'KA90OI3895',\n",
              " 'KA14BH1347',\n",
              " 'KA11IJ2929',\n",
              " 'KA53DA9452',\n",
              " 'KA96QH9485',\n",
              " 'KA99TG5619',\n",
              " 'KA60MQ8696',\n",
              " 'KA91RR1351',\n",
              " 'KA46OH9844']"
            ]
          },
          "metadata": {
            "tags": []
          },
          "execution_count": 89
        }
      ]
    },
    {
      "cell_type": "code",
      "metadata": {
        "id": "anpQ0MWK0fKa"
      },
      "source": [
        "def num_plate():\n",
        "    return [(str(random.choice(Alphabet)) + str(random.randint(10, 99)) + str(random.choice(Alphabet)) + str(random.choice(Alphabet)) + str(random.randint(1000, 9999))) for _ in range(15)]"
      ],
      "execution_count": 90,
      "outputs": []
    },
    {
      "cell_type": "markdown",
      "metadata": {
        "id": "C_oe-VRlDg5n"
      },
      "source": [
        "num_plate generator with flexible state code"
      ]
    },
    {
      "cell_type": "code",
      "metadata": {
        "id": "rLsYTXTn6SYW",
        "outputId": "5acdd0e2-f8a8-4cf3-e4ef-981c43a06cb7",
        "colab": {
          "base_uri": "https://localhost:8080/"
        }
      },
      "source": [
        "num_plate()"
      ],
      "execution_count": 91,
      "outputs": [
        {
          "output_type": "execute_result",
          "data": {
            "text/plain": [
              "['L56YO1213',\n",
              " 'C40KV8220',\n",
              " 'L74ID9134',\n",
              " 'E33GV5463',\n",
              " 'R24NY6969',\n",
              " 'I81HM8624',\n",
              " 'N75YK4352',\n",
              " 'E15TV5008',\n",
              " 'L75JC9852',\n",
              " 'I31NY6011',\n",
              " 'I72OT3079',\n",
              " 'O16LJ2618',\n",
              " 'K88CZ2696',\n",
              " 'Z73ZN4614',\n",
              " 'Q71AC2025']"
            ]
          },
          "metadata": {
            "tags": []
          },
          "execution_count": 91
        }
      ]
    }
  ]
}